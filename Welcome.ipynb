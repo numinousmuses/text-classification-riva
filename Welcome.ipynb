{
 "cells": [
  {
   "cell_type": "markdown",
   "metadata": {},
   "source": [
    "<a href=\"https://www.nvidia.com/dli\"> <img src=\"images/DLI_Header.png\" alt=\"Header\" style=\"width: 400px;\"/> </a>"
   ]
  },
  {
   "cell_type": "markdown",
   "metadata": {
    "jp-MarkdownHeadingCollapsed": true,
    "tags": []
   },
   "source": [
    "# Welcome!\n",
    "\n",
    "Text classification, the process of categorizing text, is one of the most common tasks in Natural Language Processing (NLP).  A text classification task can automatically analyze text and then assign a set of predefined tags or categories based on its context. It is applied in a wide variety of applications, including sentiment analysis, spam filtering, news categorization, domain/intent detection for dialogue systems, etc. "
   ]
  },
  {
   "cell_type": "markdown",
   "metadata": {
    "tags": []
   },
   "source": [
    "# Before You Begin...\n",
    "This lab requires that the user have an NVIDIA GPU Cloud (NGC) account and API key.  If you have not done so already, please\n",
    "1. [Register and activate a free NGC account](https://docs.nvidia.com/ngc/ngc-overview/index.html#registering-activating-ngc-account)\n",
    "2. [Generate your NGC API key](https://docs.nvidia.com/ngc/ngc-overview/index.html#generating-api-key) and save it in a safe location\n",
    "\n",
    "Once you have your API key, complete the following four steps before proceeding to the tutorial. "
   ]
  },
  {
   "cell_type": "markdown",
   "metadata": {},
   "source": [
    "### Step 1: Docker Login\n",
    "Edit the following cell by replacing **MY_NGC_API_KEY** with your key. Then, execute the cell."
   ]
  },
  {
   "cell_type": "code",
   "execution_count": null,
   "metadata": {},
   "outputs": [],
   "source": [
    "# Replace MY_NGC_API_KEY with your generated NGC API key\n",
    "api_key = \"MY_NGC_API_KEY\""
   ]
  },
  {
   "cell_type": "markdown",
   "metadata": {},
   "source": [
    "Execute the following cell to log in to NGC's Docker registry. You should get \"Login Succeeded\" at the end of the output."
   ]
  },
  {
   "cell_type": "code",
   "execution_count": null,
   "metadata": {},
   "outputs": [],
   "source": [
    "!docker login -u '$oauthtoken' -p $api_key nvcr.io"
   ]
  },
  {
   "cell_type": "markdown",
   "metadata": {},
   "source": [
    "### Step 2: NGC CLI Configuration\n",
    "The NGC command line utility is already installed.  Edit the following cell by replacing **MY_NGC_API_KEY** with your key. Then, execute the next two cells to configure NGC CLI."
   ]
  },
  {
   "cell_type": "code",
   "execution_count": null,
   "metadata": {},
   "outputs": [],
   "source": [
    "%%writefile config\n",
    ";WARNING - This is a machine generated file.  Do not edit manually.\n",
    ";WARNING - To update local config settings, see \"ngc config set -h\"\n",
    "\n",
    "[CURRENT]\n",
    "apikey = MY_NGC_API_KEY\n",
    "format_type = json\n",
    "org = nvidia"
   ]
  },
  {
   "cell_type": "code",
   "execution_count": null,
   "metadata": {},
   "outputs": [],
   "source": [
    "%%bash\n",
    "mkdir -p ~/.ngc\n",
    "mv config ~/.ngc/"
   ]
  },
  {
   "cell_type": "markdown",
   "metadata": {},
   "source": [
    "### Step 3: Download Riva Quickstart"
   ]
  },
  {
   "cell_type": "code",
   "execution_count": null,
   "metadata": {},
   "outputs": [],
   "source": [
    "!ngc registry resource download-version \"nvidia/riva/riva_quickstart:1.7.0-beta\""
   ]
  },
  {
   "cell_type": "markdown",
   "metadata": {},
   "source": [
    "### Step 4: Download a `.riva` Text Classification Model\n",
    "For this step, you could use a model exported from TAO, as you'll see mentioned in the tutorial.  Instead, we will pull a `.riva` model from NGC that classifies text by domain (weather, meteorology, personality, nomatch).  You can [read more about this model on NGC](https://catalog.ngc.nvidia.com/orgs/nvidia/teams/tao/models/domainclassification_english_bert)."
   ]
  },
  {
   "cell_type": "code",
   "execution_count": null,
   "metadata": {},
   "outputs": [],
   "source": [
    "!ngc registry model download-version \"nvidia/tao/domainclassification_english_bert:deployable_v1.0\""
   ]
  },
  {
   "cell_type": "markdown",
   "metadata": {},
   "source": [
    "Once you've successfully completed all the steps, move on to the [Text Classification Deployment](text-classification-deployment.ipynb) notebook."
   ]
  },
  {
   "cell_type": "markdown",
   "metadata": {},
   "source": [
    "<a href=\"https://www.nvidia.com/dli\"> <img src=\"images/DLI_Header.png\" alt=\"Header\" style=\"width: 400px;\"/> </a>"
   ]
  }
 ],
 "metadata": {
  "kernelspec": {
   "display_name": "Python 3 (ipykernel)",
   "language": "python",
   "name": "python3"
  },
  "language_info": {
   "codemirror_mode": {
    "name": "ipython",
    "version": 3
   },
   "file_extension": ".py",
   "mimetype": "text/x-python",
   "name": "python",
   "nbconvert_exporter": "python",
   "pygments_lexer": "ipython3",
   "version": "3.8.10"
  }
 },
 "nbformat": 4,
 "nbformat_minor": 4
}
